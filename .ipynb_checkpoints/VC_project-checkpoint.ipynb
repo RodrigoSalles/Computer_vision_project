{
 "cells": [
  {
   "cell_type": "markdown",
   "metadata": {},
   "source": [
    "##  Reading water consumption meters using computer vision techniques\n",
    "### Computer vision project\n",
    "#### Professor: Miguel Tavares Coimbra\n",
    "##### Students : Francisco Braamcamp de Figueiredo - 200804762 , Rodrigo de Oliveira Salles - 201908577"
   ]
  },
  {
   "cell_type": "markdown",
   "metadata": {},
   "source": [
    "### Example of images to be analyzed"
   ]
  },
  {
   "cell_type": "markdown",
   "metadata": {},
   "source": [
    "Load libraries needed for the project"
   ]
  },
  {
   "cell_type": "code",
   "execution_count": 1,
   "metadata": {},
   "outputs": [
    {
     "name": "stderr",
     "output_type": "stream",
     "text": [
      "Using TensorFlow backend.\n"
     ]
    }
   ],
   "source": [
    "import cv2\n",
    "import numpy as np\n",
    "import glob\n",
    "import random\n",
    "import pytesseract\n",
    "from imutils import contours\n",
    "from matplotlib import pyplot\n",
    "from matplotlib import pyplot as plt\n",
    "from keras.datasets import mnist\n",
    "import matplotlib.pyplot as plt\n",
    "import imutils\n",
    "import pytesseract"
   ]
  },
  {
   "cell_type": "markdown",
   "metadata": {},
   "source": [
    "Example of images to be analyzed"
   ]
  },
  {
   "cell_type": "code",
   "execution_count": 2,
   "metadata": {},
   "outputs": [],
   "source": [
    "img1 = cv2.imread(\"id_26_value_252_131.jpg\")\n",
    "img2 = cv2.imread(\"id_29_value_127_491.jpg\")\n",
    "img3 = cv2.imread(\"id_35_value_469_334.jpg\")"
   ]
  },
  {
   "cell_type": "code",
   "execution_count": 27,
   "metadata": {},
   "outputs": [],
   "source": [
    "# Resize image\n",
    "width = 320\n",
    "height = 400\n",
    "dim = (width, height)\n",
    "\n",
    "img_redm1 = cv2.resize(img1, dim, interpolation = cv2.INTER_AREA)\n",
    "img_redm2 = cv2.resize(img2, dim, interpolation = cv2.INTER_AREA)\n",
    "img_redm3 = cv2.resize(img3, dim, interpolation = cv2.INTER_AREA)"
   ]
  },
  {
   "cell_type": "code",
   "execution_count": 29,
   "metadata": {},
   "outputs": [],
   "source": [
    "# concatenate pictures\n",
    "imgs_horizontal = np.concatenate((img_redm1, img_redm2, img_redm3), axis=1)"
   ]
  },
  {
   "cell_type": "code",
   "execution_count": 30,
   "metadata": {},
   "outputs": [],
   "source": [
    "cv2.imshow(\"resized images\", imgs_horizontal)\n",
    "cv2.waitKey(0)\n",
    "cv2.destroyAllWindows()"
   ]
  },
  {
   "cell_type": "code",
   "execution_count": 31,
   "metadata": {},
   "outputs": [
    {
     "data": {
      "text/plain": [
       "True"
      ]
     },
     "execution_count": 31,
     "metadata": {},
     "output_type": "execute_result"
    }
   ],
   "source": [
    "# Save imagens\n",
    "cv2.imwrite('exemplo.png', imgs_horizontal)"
   ]
  },
  {
   "cell_type": "markdown",
   "metadata": {},
   "source": [
    "#### Example of images to be analyzed - water meters\n",
    "<img src=\"exemplo.png\">"
   ]
  },
  {
   "cell_type": "markdown",
   "metadata": {},
   "source": [
    "### Objective of the first part of the project: to locate the region of the digits"
   ]
  },
  {
   "cell_type": "markdown",
   "metadata": {},
   "source": [
    "<img src=\"img_regiao_interesse.png\">"
   ]
  },
  {
   "cell_type": "markdown",
   "metadata": {},
   "source": [
    "#### To locate the region of interest, containing the digits to be read, an artificial neural network \"You only look once - yolo\" was adopted."
   ]
  },
  {
   "cell_type": "markdown",
   "metadata": {},
   "source": [
    "The network was trained with 500 images of water meters. \n",
    "#### The following codes were run on Google Colab"
   ]
  },
  {
   "cell_type": "code",
   "execution_count": null,
   "metadata": {},
   "outputs": [],
   "source": [
    "# Check if NVIDIA GPU is enabled\n",
    "!nvidia-smi"
   ]
  },
  {
   "cell_type": "code",
   "execution_count": null,
   "metadata": {},
   "outputs": [],
   "source": [
    "from google.colab import drive\n",
    "drive.mount('/content/gdrive')\n",
    "!ln -s /content/gdrive/My\\ Drive/ /mydrive\n",
    "!ls /mydrive"
   ]
  },
  {
   "cell_type": "code",
   "execution_count": null,
   "metadata": {},
   "outputs": [],
   "source": [
    "# Clone the Darknet\n",
    "!git clone https://github.com/AlexeyAB/darknet"
   ]
  },
  {
   "cell_type": "code",
   "execution_count": null,
   "metadata": {},
   "outputs": [],
   "source": [
    "# Compile Darknet using Nvidia GPU\n",
    "# change makefile to have GPU and OPENCV enabled\n",
    "%cd darknet\n",
    "!sed -i 's/OPENCV=0/OPENCV=1/' Makefile\n",
    "!sed -i 's/GPU=0/GPU=1/' Makefile\n",
    "!sed -i 's/CUDNN=0/CUDNN=1/' Makefile\n",
    "!make"
   ]
  },
  {
   "cell_type": "code",
   "execution_count": null,
   "metadata": {},
   "outputs": [],
   "source": [
    "# Configure Darknet network for training YOLO V3\n",
    "!cp cfg/yolov3.cfg cfg/yolov3_training.cfg"
   ]
  },
  {
   "cell_type": "code",
   "execution_count": null,
   "metadata": {},
   "outputs": [],
   "source": [
    "!sed -i 's/batch=1/batch=64/' cfg/yolov3_training.cfg\n",
    "!sed -i 's/subdivisions=1/subdivisions=16/' cfg/yolov3_training.cfg\n",
    "!sed -i 's/max_batches = 500200/max_batches = 4000/' cfg/yolov3_training.cfg\n",
    "!sed -i '610 s@classes=80@classes=1@' cfg/yolov3_training.cfg\n",
    "!sed -i '696 s@classes=80@classes=1@' cfg/yolov3_training.cfg\n",
    "!sed -i '783 s@classes=80@classes=1@' cfg/yolov3_training.cfg\n",
    "!sed -i '603 s@filters=255@filters=18@' cfg/yolov3_training.cfg\n",
    "!sed -i '689 s@filters=255@filters=18@' cfg/yolov3_training.cfg\n",
    "!sed -i '776 s@filters=255@filters=18@' cfg/yolov3_training.cfg"
   ]
  },
  {
   "cell_type": "code",
   "execution_count": null,
   "metadata": {},
   "outputs": [],
   "source": [
    "# Create folder on google drive so that we can save there the weights\n",
    "!mkdir \"/mydrive/yolov3\""
   ]
  },
  {
   "cell_type": "code",
   "execution_count": null,
   "metadata": {},
   "outputs": [],
   "source": [
    "!echo \"meter\" > data/obj.names\n",
    "!echo -e 'classes= 1\\ntrain  = data/train.txt\\nvalid  = data/test.txt\\nnames = data/obj.names\\nbackup = /mydrive/yolov3' > data/obj.data\n",
    "!mkdir data/obj"
   ]
  },
  {
   "cell_type": "code",
   "execution_count": null,
   "metadata": {},
   "outputs": [],
   "source": [
    "# Download weights darknet model 53\n",
    "!wget https://pjreddie.com/media/files/darknet53.conv.74"
   ]
  },
  {
   "cell_type": "code",
   "execution_count": null,
   "metadata": {},
   "outputs": [],
   "source": [
    "# Extract Images\n",
    "# The images need to be inside a zip archive called \"images.zip\" \n",
    "# and they need to be inside the folder \"yolov3\" on Google Drive\n",
    "!unzip /mydrive/yolov3/images.zip -d data/obj"
   ]
  },
  {
   "cell_type": "code",
   "execution_count": null,
   "metadata": {},
   "outputs": [],
   "source": [
    "# We're going to convert the class index on the .txt files. As we're working with \n",
    "# only one class, it's supposed to be class 0.\n",
    "import glob\n",
    "import os\n",
    "import re\n",
    "\n",
    "txt_file_paths = glob.glob(r\"data/obj/*.txt\")\n",
    "for i, file_path in enumerate(txt_file_paths):\n",
    "    # get image size\n",
    "    with open(file_path, \"r\") as f_o:\n",
    "        lines = f_o.readlines()\n",
    "\n",
    "        text_converted = []\n",
    "        for line in lines:\n",
    "            print(line)\n",
    "            numbers = re.findall(\"[0-9.]+\", line)\n",
    "            print(numbers)\n",
    "            if numbers:\n",
    "\n",
    "                # Define coordinates\n",
    "                text = \"{} {} {} {} {}\".format(0, numbers[1], numbers[2], numbers[3], numbers[4])\n",
    "                text_converted.append(text)\n",
    "                print(i, file_path)\n",
    "                print(text)\n",
    "        # Write file\n",
    "        with open(file_path, 'w') as fp:\n",
    "            for item in text_converted:\n",
    "                fp.writelines(\"%s\\n\" % item)"
   ]
  },
  {
   "cell_type": "code",
   "execution_count": null,
   "metadata": {},
   "outputs": [],
   "source": [
    "import glob\n",
    "images_list = glob.glob(\"data/obj/*.jpg\")\n",
    "print(images_list)"
   ]
  },
  {
   "cell_type": "code",
   "execution_count": null,
   "metadata": {},
   "outputs": [],
   "source": [
    "#Create training.txt file\n",
    "file = open(\"data/train.txt\", \"w\") \n",
    "file.write(\"\\n\".join(images_list)) \n",
    "file.close() "
   ]
  },
  {
   "cell_type": "code",
   "execution_count": null,
   "metadata": {},
   "outputs": [],
   "source": [
    "# Start the training\n",
    "!./darknet detector train data/obj.data cfg/yolov3_training.cfg darknet53.conv.74 -dont_show"
   ]
  },
  {
   "cell_type": "markdown",
   "metadata": {},
   "source": [
    "End of code run on Google Colab. The trained model has been saved to the drive and will be used below"
   ]
  },
  {
   "cell_type": "markdown",
   "metadata": {},
   "source": [
    "### Test trained model"
   ]
  },
  {
   "cell_type": "code",
   "execution_count": 2,
   "metadata": {},
   "outputs": [],
   "source": [
    "# Load trained model\n",
    "net = cv2.dnn.readNet(\"yolov3_training_last.weights\", \"yolov3_testing.cfg\")"
   ]
  },
  {
   "cell_type": "code",
   "execution_count": 3,
   "metadata": {},
   "outputs": [],
   "source": [
    "# Class name identified\n",
    "classes = [\"meter\"]"
   ]
  },
  {
   "cell_type": "code",
   "execution_count": 49,
   "metadata": {},
   "outputs": [],
   "source": [
    "# Load test image\n",
    "# id_1008_value_95_912\n",
    "# id_1085_value_81_39\n",
    "# id_13_value_21_789(difícil)\n",
    "# id_1009_value_133_679\n",
    "images_path = glob.glob(r\"id_1009_value_133_679.jpg\")"
   ]
  },
  {
   "cell_type": "code",
   "execution_count": 5,
   "metadata": {},
   "outputs": [],
   "source": [
    "# Resize images\n",
    "width = 500\n",
    "height = 650\n",
    "dim = (width, height)"
   ]
  },
  {
   "cell_type": "code",
   "execution_count": 50,
   "metadata": {},
   "outputs": [
    {
     "name": "stdout",
     "output_type": "stream",
     "text": [
      "0\n",
      "[[0]]\n"
     ]
    }
   ],
   "source": [
    "# Test \n",
    "\n",
    "layer_names = net.getLayerNames()\n",
    "output_layers = [layer_names[i[0] - 1] for i in net.getUnconnectedOutLayers()]\n",
    "colors = np.random.uniform(0, 255, size=(len(classes), 3))\n",
    "\n",
    "random.shuffle(images_path)\n",
    "\n",
    "for img_path in images_path:\n",
    "    \n",
    "    #Loading image\n",
    "    img = cv2.imread(img_path)\n",
    "    img = cv2.resize(img, dim)\n",
    "    height, width, channels = img.shape\n",
    "\n",
    "    # Detecting objects\n",
    "    blob = cv2.dnn.blobFromImage(img, 0.00392, (416, 416), (0, 0, 0), True, crop=False)\n",
    "\n",
    "    net.setInput(blob)\n",
    "    outs = net.forward(output_layers)\n",
    "\n",
    "    # Showing informations on the screen\n",
    "    class_ids = []\n",
    "    confidences = []\n",
    "    boxes = []\n",
    "    for out in outs:\n",
    "        for detection in out:\n",
    "            scores = detection[5:]\n",
    "            class_id = np.argmax(scores)\n",
    "            confidence = scores[class_id]\n",
    "            if confidence > 0.3:\n",
    "                # Object detected\n",
    "                print(class_id)\n",
    "                center_x = int(detection[0] * width)\n",
    "                center_y = int(detection[1] * height)\n",
    "                w = int(detection[2] * width)\n",
    "                h = int(detection[3] * height)\n",
    "\n",
    "                # Rectangle coordinates\n",
    "                x = int(center_x - w / 2)\n",
    "                y = int(center_y - h / 2)\n",
    "\n",
    "                boxes.append([x, y, w, h])\n",
    "                confidences.append(float(confidence))\n",
    "                class_ids.append(class_id)\n",
    "\n",
    "    indexes = cv2.dnn.NMSBoxes(boxes, confidences, 0.5, 0.4)\n",
    "    print(indexes)\n",
    "    font = cv2.FONT_HERSHEY_PLAIN\n",
    "    for i in range(len(boxes)):\n",
    "        if i in indexes:\n",
    "            x, y, w, h = boxes[i]\n",
    "            label = str(classes[class_ids[i]])\n",
    "            color = colors[class_ids[i]]\n",
    "            cv2.rectangle(img, (x, y), (x + w, y + h), color, 2)\n",
    "            #cv2.putText(img, label, (x, y + 30), font, 3, color, 2)\n",
    "\n",
    "    # cropping the image\n",
    "    crop_img = img[y:y+h, x:x+w]\n",
    "    cv2.imshow(\"Image\", img)\n",
    "    \n",
    "    key = cv2.waitKey(0)   \n",
    "    cv2.imshow(\"Image\", crop_img)\n",
    "    key = cv2.waitKey(0)\n",
    "\n",
    "cv2.destroyAllWindows()"
   ]
  },
  {
   "cell_type": "code",
   "execution_count": 55,
   "metadata": {},
   "outputs": [
    {
     "data": {
      "text/plain": [
       "True"
      ]
     },
     "execution_count": 55,
     "metadata": {},
     "output_type": "execute_result"
    }
   ],
   "source": [
    "# Save imagens\n",
    "cv2.imwrite('ident3.png', img)\n",
    "cv2.imwrite('crop_ident3.png', crop_img)"
   ]
  },
  {
   "cell_type": "markdown",
   "metadata": {},
   "source": [
    "### Results - First part of the project"
   ]
  },
  {
   "cell_type": "markdown",
   "metadata": {},
   "source": [
    "<img src=\"ident1.png\"> \n",
    "<img src=\"crop_ident1.png\">\n",
    "\n",
    "<img src=\"ident2.png\"> \n",
    "<img src=\"crop_ident2.png\">\n",
    "\n",
    "<img src=\"ident3.png\"> \n",
    "<img src=\"crop_ident3.png\">\n",
    "\n",
    "#### End of the first part of the project"
   ]
  },
  {
   "cell_type": "markdown",
   "metadata": {},
   "source": [
    "### Objective of the second part of the project: segmentation of the characters of the cropped region"
   ]
  },
  {
   "cell_type": "markdown",
   "metadata": {},
   "source": [
    "<img src=\"crop_ident1.png\">"
   ]
  },
  {
   "cell_type": "markdown",
   "metadata": {},
   "source": [
    "#### Start digit segmentation"
   ]
  },
  {
   "cell_type": "code",
   "execution_count": 108,
   "metadata": {},
   "outputs": [
    {
     "data": {
      "image/png": "[encoded data removed]",
      "text/plain": [
       "<Figure size 432x288 with 6 Axes>"
      ]
     },
     "metadata": {},
     "output_type": "display_data"
    }
   ],
   "source": [
    "# Verify better threshold for the problem\n",
    "mask = np.zeros(crop_img.shape, dtype=np.uint8)\n",
    "gray = cv2.cvtColor(crop_img, cv2.COLOR_BGR2GRAY)\n",
    "thresh = cv2.threshold(gray, 127, 255, cv2.THRESH_BINARY)\n",
    "\n",
    "ret,thresh1 = cv2.threshold(gray,127,255,cv2.THRESH_BINARY)\n",
    "ret,thresh2 = cv2.threshold(gray,127,255,cv2.THRESH_BINARY_INV)\n",
    "ret,thresh3 = cv2.threshold(gray,127,255,cv2.THRESH_TRUNC)\n",
    "ret,thresh4 = cv2.threshold(gray,127,255,cv2.THRESH_TOZERO)\n",
    "ret,thresh5 = cv2.threshold(gray,127,255,cv2.THRESH_TOZERO_INV)\n",
    "\n",
    "titles = ['Original Image','BINARY','BINARY_INV','TRUNC','TOZERO','TOZERO_INV']\n",
    "images = [crop_img, thresh1, thresh2, thresh3, thresh4, thresh5]\n",
    "for i in range(6):\n",
    "    plt.subplot(2,3,i+1),plt.imshow(images[i],'gray',vmin=0,vmax=255)\n",
    "    plt.title(titles[i])\n",
    "    plt.xticks([]),plt.yticks([])\n",
    "plt.show()"
   ]
  },
  {
   "cell_type": "code",
   "execution_count": 109,
   "metadata": {},
   "outputs": [],
   "source": [
    "# Identify, count and sort the contours\n",
    "cnts = cv2.findContours(thresh4, cv2.RETR_TREE, cv2.CHAIN_APPROX_SIMPLE)\n",
    "cnts = cnts[0] if len(cnts) == 2 else cnts[1]\n",
    "(cnts, _) = contours.sort_contours(cnts, method=\"left-to-right\")\n",
    "ROI_number = 0"
   ]
  },
  {
   "cell_type": "code",
   "execution_count": 110,
   "metadata": {},
   "outputs": [],
   "source": [
    "# Save contours\n",
    "for c in cnts:\n",
    "    area = cv2.contourArea(c)\n",
    "    if area < 700 and area > 70:\n",
    "        x,y,w,h = cv2.boundingRect(c)\n",
    "        ROI = 255 - thresh4[y:y+h, x:x+w]\n",
    "        cv2.drawContours(mask, [c], -1, (255,255,255), -1)\n",
    "        cv2.imwrite('img_{}.png'.format(ROI_number), ROI)\n",
    "        ROI_number += 1"
   ]
  },
  {
   "cell_type": "markdown",
   "metadata": {},
   "source": [
    "<img src=\"crop_ident1.png\">\n",
    "<img src=\"img_0.png\"> \n",
    "<img src=\"img_2.png\">\n",
    "<img src=\"img_4.png\">\n",
    "<img src=\"img_5.png\">\n",
    "<img src=\"img_6.png\">\n",
    "<img src=\"img_7.png\">\n",
    "<img src=\"img_8.png\">\n",
    "\n",
    "Just one mistake. The digit 6 was not recognized."
   ]
  },
  {
   "cell_type": "markdown",
   "metadata": {},
   "source": [
    "### Objective of the third part of the project: digit identification by an artificial neural network."
   ]
  },
  {
   "cell_type": "code",
   "execution_count": 113,
   "metadata": {},
   "outputs": [],
   "source": [
    "# load training and tests datasets\n",
    "(x_train, y_train), (x_test, y_test) = mnist.load_data()"
   ]
  },
  {
   "cell_type": "code",
   "execution_count": 121,
   "metadata": {},
   "outputs": [
    {
     "name": "stdout",
     "output_type": "stream",
     "text": [
      "Train: X=(60000, 28, 28), y=(60000,)\n",
      "Test: X=(10000, 28, 28), y=(10000,)\n"
     ]
    },
    {
     "data": {
      "image/png": "[encoded data removed]",
      "text/plain": [
       "<Figure size 432x288 with 9 Axes>"
      ]
     },
     "metadata": {
      "needs_background": "light"
     },
     "output_type": "display_data"
    }
   ],
   "source": [
    "# observe dataset image\n",
    "print('Train: X=%s, y=%s' % (x_train.shape, y_train.shape))\n",
    "print('Test: X=%s, y=%s' % (x_test.shape, y_test.shape))\n",
    "# plot first few images\n",
    "for i in range(9):\n",
    "    # define subplot\n",
    "    pyplot.subplot(330 + 1 + i)\n",
    "    # plot raw pixel data\n",
    "    pyplot.imshow(x_train[i], cmap=pyplot.get_cmap('gray'))\n",
    "# show the figure\n",
    "pyplot.show()"
   ]
  },
  {
   "cell_type": "code",
   "execution_count": null,
   "metadata": {},
   "outputs": [],
   "source": [
    "# resizing and normalizing image\n",
    "img_rows, img_cols = 28, 28\n",
    "x_train = x_train.reshape(x_train.shape[0], img_rows, img_cols, 1).astype(\"float32\")\n",
    "x_test = x_test.reshape(x_test.shape[0], img_rows, img_cols, 1).astype(\"float32\")\n",
    "x_train /= 255\n",
    "x_test /= 255"
   ]
  },
  {
   "cell_type": "code",
   "execution_count": null,
   "metadata": {},
   "outputs": [],
   "source": [
    "# building artificial neural network\n",
    "from keras.models import Sequential\n",
    "from keras.layers import Dense, Dropout, Flatten, Conv2D, MaxPooling2D\n",
    "\n",
    "model = Sequential()\n",
    "model.add(Conv2D(32, kernel_size=(3, 3),\n",
    "     activation='relu',\n",
    "     input_shape=(img_rows, img_cols, 1)))\n",
    "\n",
    "model.add(Conv2D(64, (3, 3), activation='relu'))\n",
    "model.add(MaxPooling2D(pool_size=(2, 2)))\n",
    "\n",
    "model.add(Dropout(0.25))\n",
    "\n",
    "model.add(Flatten())\n",
    "\n",
    "model.add(Dense(128, activation='relu'))\n",
    "model.add(Dropout(0.5))\n",
    "model.add(Dense(num_classes, activation='softmax'))\n",
    "\n",
    "model.compile(loss='sparse_categorical_crossentropy',\n",
    "      optimizer='adam',\n",
    "      metrics=['accuracy'])"
   ]
  },
  {
   "cell_type": "code",
   "execution_count": null,
   "metadata": {},
   "outputs": [],
   "source": [
    "# Training and save the model\n",
    "batch_size = 128\n",
    "epochs = 10\n",
    "\n",
    "model.fit(x_train, y_train,\n",
    "          batch_size=batch_size,\n",
    "          epochs=epochs,\n",
    "          verbose=1,\n",
    "          validation_data=(x_test, y_test))\n",
    "score = model.evaluate(x_test, y_test, verbose=0)\n",
    "print('Test loss:', score[0])\n",
    "print('Test accuracy:', score[1])\n",
    "model.save(\"test_model.h5\")"
   ]
  },
  {
   "cell_type": "markdown",
   "metadata": {},
   "source": [
    "#### Testing the classifier "
   ]
  },
  {
   "cell_type": "code",
   "execution_count": 20,
   "metadata": {},
   "outputs": [],
   "source": [
    "# Carregar o modelo\n",
    "from keras.models import load_model\n",
    "model = load_model(\"test_model.h5\")"
   ]
  },
  {
   "cell_type": "code",
   "execution_count": 21,
   "metadata": {},
   "outputs": [],
   "source": [
    "nomes = [\"img1\",\"img2\",\"img3\",\"img4\",\"img5\",\"img6\",\"img7\"]"
   ]
  },
  {
   "cell_type": "code",
   "execution_count": 22,
   "metadata": {},
   "outputs": [
    {
     "name": "stdout",
     "output_type": "stream",
     "text": [
      "[0, 0, 1, 3, 3, 7, 6]\n"
     ]
    }
   ],
   "source": [
    "leitura = []\n",
    "for i in nomes:\n",
    "    im = cv2.imread(i + \".png\")\n",
    "    gray = np.dot(im[...,:3], [0.299, 0.587, 0.114])\n",
    "    gray = gray.reshape(1, 28, 28, 1)\n",
    "    gray /= 255\n",
    "    # predict digit\n",
    "    prediction = model.predict(gray)\n",
    "    leitura.append(prediction.argmax())\n",
    "print(leitura)"
   ]
  },
  {
   "cell_type": "code",
   "execution_count": 23,
   "metadata": {},
   "outputs": [
    {
     "name": "stdout",
     "output_type": "stream",
     "text": [
      "Meter reading: 0013376\n"
     ]
    }
   ],
   "source": [
    "print(\"Meter reading: \",*leitura, sep='')"
   ]
  },
  {
   "cell_type": "markdown",
   "metadata": {},
   "source": [
    "<img src=\"crop_ident1.png\">\n",
    "\n",
    "####     Meter reading: 0013376\n",
    "As can be seen the main digits, before the comma, considered for the consumption reading were read correctly"
   ]
  },
  {
   "cell_type": "markdown",
   "metadata": {},
   "source": [
    "\n",
    "### Reading performed by Python-tesseract - optical character recognition (OCR) tool for python"
   ]
  },
  {
   "cell_type": "code",
   "execution_count": 51,
   "metadata": {},
   "outputs": [],
   "source": [
    "pytesseract.pytesseract.tesseract_cmd = r'C:\\Program Files\\Tesseract-OCR\\tesseract.exe'"
   ]
  },
  {
   "cell_type": "code",
   "execution_count": 70,
   "metadata": {},
   "outputs": [],
   "source": [
    "# Read the image file\n",
    "image = crop_img"
   ]
  },
  {
   "cell_type": "code",
   "execution_count": 71,
   "metadata": {},
   "outputs": [],
   "source": [
    "# Resize the image - change width to 500\n",
    "image = imutils.resize(image, width=500)"
   ]
  },
  {
   "cell_type": "code",
   "execution_count": 75,
   "metadata": {},
   "outputs": [],
   "source": [
    "gray = cv2.cvtColor(image, cv2.COLOR_BGR2GRAY)\n",
    "cv2.imshow(\"Grayscale Conversion\", gray)\n",
    "key = cv2.waitKey(0)\n",
    "cv2.destroyAllWindows()"
   ]
  },
  {
   "cell_type": "code",
   "execution_count": 76,
   "metadata": {},
   "outputs": [],
   "source": [
    "# Noise removal with iterative bilateral filter(removes noise while preserving edges)\n",
    "gray = cv2.bilateralFilter(gray, 11, 17, 17)\n",
    "cv2.imshow(\"Bilateral Filter\", gray)\n",
    "key = cv2.waitKey(0)\n",
    "cv2.destroyAllWindows()"
   ]
  },
  {
   "cell_type": "code",
   "execution_count": 77,
   "metadata": {},
   "outputs": [],
   "source": [
    "# Find Edges of the grayscale image\n",
    "edged = cv2.Canny(gray, 170, 200)\n",
    "cv2.imshow(\"Canny Edges\", edged)\n",
    "key = cv2.waitKey(0)\n",
    "cv2.destroyAllWindows()"
   ]
  },
  {
   "cell_type": "code",
   "execution_count": 78,
   "metadata": {},
   "outputs": [],
   "source": [
    "# Find contours based on Edges\n",
    "cnts, new  = cv2.findContours(edged.copy(), cv2.RETR_LIST, cv2.CHAIN_APPROX_SIMPLE)"
   ]
  },
  {
   "cell_type": "code",
   "execution_count": 98,
   "metadata": {},
   "outputs": [],
   "source": [
    "# Create copy of original image to draw all contours\n",
    "img1 = image.copy()\n",
    "cv2.drawContours(img1, cnts, -1, (0,255,0), 2)\n",
    "cv2.imshow(\"All Contours\", img1)\n",
    "key = cv2.waitKey(0)\n",
    "cv2.destroyAllWindows()"
   ]
  },
  {
   "cell_type": "code",
   "execution_count": 99,
   "metadata": {},
   "outputs": [],
   "source": [
    "#sort contours based on their area keeping minimum required area as '30' (anything smaller than this will not be considered)\n",
    "cnts=sorted(cnts, key = cv2.contourArea, reverse = True)[:30]\n",
    "NumberPlateCnt = None #we currently have no Number plate contour"
   ]
  },
  {
   "cell_type": "code",
   "execution_count": 100,
   "metadata": {},
   "outputs": [],
   "source": [
    "# Top 30 Contours\n",
    "img2 = image.copy()\n",
    "cv2.drawContours(img2, cnts, -1, (0,255,0), 3)\n",
    "cv2.imshow(\"5- Top 30 Contours\", img2)\n",
    "key = cv2.waitKey(0)\n",
    "cv2.destroyAllWindows()"
   ]
  },
  {
   "cell_type": "code",
   "execution_count": 61,
   "metadata": {},
   "outputs": [
    {
     "data": {
      "text/plain": [
       "True"
      ]
     },
     "execution_count": 61,
     "metadata": {},
     "output_type": "execute_result"
    }
   ],
   "source": [
    "cv2.imwrite('contornos.png', img2)"
   ]
  },
  {
   "cell_type": "markdown",
   "metadata": {},
   "source": [
    "### found contours\n",
    "\n",
    "<img src=\"contornos.png\">"
   ]
  },
  {
   "cell_type": "code",
   "execution_count": 101,
   "metadata": {},
   "outputs": [],
   "source": [
    "# loop over our contours to find the best possible approximate contour of number plate\n",
    "count = 0\n",
    "idx =7\n",
    "for c in cnts:\n",
    "        peri = cv2.arcLength(c, True)\n",
    "        approx = cv2.approxPolyDP(c, 0.03 * peri, True)\n",
    "        # print (\"approx = \",approx)\n",
    "        if len(approx) == 4:  # Select the contour with 4 corners\n",
    "            NumberPlateCnt = approx #This is our approx Number Plate Contour\n",
    "\n",
    "            # Crop those contours and store it in Cropped Images folder\n",
    "            x, y, w, h = cv2.boundingRect(c) #This will find out co-ord for plate\n",
    "            new_img = gray[y:y + h, x:x + w] #Create new image\n",
    "            cv2.imwrite('Cropped Images-Text/' + str(idx) + '.png', new_img) #Store new image\n",
    "            idx+=1\n",
    "\n",
    "            break"
   ]
  },
  {
   "cell_type": "code",
   "execution_count": 102,
   "metadata": {},
   "outputs": [],
   "source": [
    "Cropped_img_loc = crop_img\n",
    "cv2.imshow(\"Cropped Image \", Cropped_img_loc)\n",
    "key = cv2.waitKey(0)\n",
    "cv2.destroyAllWindows()"
   ]
  },
  {
   "cell_type": "code",
   "execution_count": 103,
   "metadata": {},
   "outputs": [],
   "source": [
    "Cropped_img_loc = crop_img"
   ]
  },
  {
   "cell_type": "code",
   "execution_count": 104,
   "metadata": {},
   "outputs": [],
   "source": [
    "#custom_config = r'--oem 3 --psm 7 outbase digits'\n",
    "text = pytesseract.image_to_string(crop_img, config=\"-c tessedit_char_whitelist=0123456789\")"
   ]
  },
  {
   "cell_type": "code",
   "execution_count": 108,
   "metadata": {},
   "outputs": [
    {
     "name": "stdout",
     "output_type": "stream",
     "text": [
      "Meter reading: 0176\n"
     ]
    }
   ],
   "source": [
    "# Use tesseract to covert image into string\n",
    "print(\"Meter reading: \", text)"
   ]
  },
  {
   "cell_type": "markdown",
   "metadata": {},
   "source": [
    "###"
   ]
  }
 ],
 "metadata": {
  "kernelspec": {
   "display_name": "Python 3",
   "language": "python",
   "name": "python3"
  },
  "language_info": {
   "codemirror_mode": {
    "name": "ipython",
    "version": 3
   },
   "file_extension": ".py",
   "mimetype": "text/x-python",
   "name": "python",
   "nbconvert_exporter": "python",
   "pygments_lexer": "ipython3",
   "version": "3.7.3"
  }
 },
 "nbformat": 4,
 "nbformat_minor": 4
}
